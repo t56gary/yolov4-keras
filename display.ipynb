{
  "nbformat": 4,
  "nbformat_minor": 0,
  "metadata": {
    "colab": {
      "name": "display.ipynb",
      "provenance": [],
      "collapsed_sections": [],
      "include_colab_link": true
    },
    "kernelspec": {
      "name": "python3",
      "display_name": "Python 3"
    },
    "accelerator": "GPU"
  },
  "cells": [
    {
      "cell_type": "markdown",
      "metadata": {
        "id": "view-in-github",
        "colab_type": "text"
      },
      "source": [
        "<a href=\"https://colab.research.google.com/github/t56gary/yolov4-keras/blob/main/display.ipynb\" target=\"_parent\"><img src=\"https://colab.research.google.com/assets/colab-badge.svg\" alt=\"Open In Colab\"/></a>"
      ]
    },
    {
      "cell_type": "code",
      "metadata": {
        "id": "8w9KXb_HEe51"
      },
      "source": [
        "# ! git clone https://github.com/taipingeric/yolo-v4-tf.keras.git"
      ],
      "execution_count": null,
      "outputs": []
    },
    {
      "cell_type": "code",
      "metadata": {
        "id": "bNb_9U7_6Vll",
        "colab": {
          "base_uri": "https://localhost:8080/"
        },
        "outputId": "a63d0b9d-3f8a-44c4-c6f3-895d4df29cd4"
      },
      "source": [
        "%tensorflow_version 1.x"
      ],
      "execution_count": null,
      "outputs": [
        {
          "output_type": "stream",
          "text": [
            "TensorFlow 1.x selected.\n"
          ],
          "name": "stdout"
        }
      ]
    },
    {
      "cell_type": "code",
      "metadata": {
        "colab": {
          "base_uri": "https://localhost:8080/"
        },
        "id": "gYEleZ490o8m",
        "outputId": "59954d4d-48b9-475c-eb35-523655347c60"
      },
      "source": [
        "! git clone https://github.com/t56gary/yolov4-keras.git"
      ],
      "execution_count": null,
      "outputs": [
        {
          "output_type": "stream",
          "text": [
            "Cloning into 'yolov4-keras'...\n",
            "remote: Enumerating objects: 115, done.\u001b[K\n",
            "remote: Counting objects: 100% (115/115), done.\u001b[K\n",
            "remote: Compressing objects: 100% (102/102), done.\u001b[K\n",
            "remote: Total 115 (delta 47), reused 0 (delta 0), pack-reused 0\u001b[K\n",
            "Receiving objects: 100% (115/115), 5.32 MiB | 7.14 MiB/s, done.\n",
            "Resolving deltas: 100% (47/47), done.\n"
          ],
          "name": "stdout"
        }
      ]
    },
    {
      "cell_type": "code",
      "metadata": {
        "colab": {
          "base_uri": "https://localhost:8080/"
        },
        "id": "pCtHXwgpJYt9",
        "outputId": "fd58da40-48b6-4894-9cd4-1018c10978d0"
      },
      "source": [
        "from google.colab import drive\n",
        "drive.mount('/content/drive/')"
      ],
      "execution_count": null,
      "outputs": [
        {
          "output_type": "stream",
          "text": [
            "Mounted at /content/drive/\n"
          ],
          "name": "stdout"
        }
      ]
    },
    {
      "cell_type": "code",
      "metadata": {
        "id": "AY9sanvXF0nL"
      },
      "source": [
        "import sys\n",
        "# sys.path.insert(0,'/content/yolo-v4-tf.keras')\n",
        "sys.path.insert(0,'/content/yolov4-keras')"
      ],
      "execution_count": null,
      "outputs": []
    },
    {
      "cell_type": "code",
      "metadata": {
        "id": "ps1vGP22I9tL"
      },
      "source": [
        "# import cv2\n",
        "# import numpy as np\n",
        "# from glob import glob\n",
        "# from models import Yolov4\n",
        "# from tensorflow import keras"
      ],
      "execution_count": null,
      "outputs": []
    },
    {
      "cell_type": "code",
      "metadata": {
        "id": "pyDI9Isg4L6D"
      },
      "source": [
        "# model = Yolov4(weight_path='/content/drive/MyDrive/AI鯉魚王/Yolo_v4/ep068-loss4.088-val_loss3.863.h5',\n",
        "#                class_name_path='/content/drive/MyDrive/AI鯉魚王/Yolo_v4/model_data/bccd_classes.txt')"
      ],
      "execution_count": null,
      "outputs": []
    },
    {
      "cell_type": "code",
      "metadata": {
        "id": "ilanVl_2JEVN"
      },
      "source": [
        "# path = np.random.choice(glob('/content/drive/MyDrive/AI鯉魚王/Yolo_v4/dataset/train_image/fish1/img/*.png'), 1)[0]\n",
        "# # path='/content/drive/MyDrive/AI鯉魚王/交通.jpg'\n",
        "# print(path)\n",
        "# model.predict(path, random_color=True)"
      ],
      "execution_count": null,
      "outputs": []
    },
    {
      "cell_type": "code",
      "metadata": {
        "id": "cs0Yd3fcVeRK"
      },
      "source": [
        "_defaults = {\n",
        "        \"model_path\":'/content/drive/MyDrive/AI鯉魚王/Yolo_v4/h5/2020_12_04_02:00:00/ep160-loss2.677-val_loss2.655.h5',\n",
        "        \"anchors_path\":'/content/Yolov4-keras/model_data/yolo_anchors.txt',\n",
        "        \"classes_path\":'/content/drive/MyDrive/AI鯉魚王/Yolo_v4/model_data/bccd_classes.txt',\n",
        "        \"score\": 0.4,\n",
        "        \"iou\": 0.6,\n",
        "        \"max_boxes\": 100,\n",
        "        # 显存比较小可以使用416x416\n",
        "        # 显存比较大可以使用608x608\n",
        "        \"model_image_size\":(416, 416)\n",
        "    }"
      ],
      "execution_count": null,
      "outputs": []
    },
    {
      "cell_type": "code",
      "metadata": {
        "id": "Rv5-IomZ1FwV",
        "colab": {
          "base_uri": "https://localhost:8080/"
        },
        "outputId": "84036cee-a27c-4032-bcc8-5a9381d50445"
      },
      "source": [
        "from yolo import YOLO\n",
        "from PIL import Image\n",
        "from glob import glob\n",
        "import numpy as np\n",
        "\n",
        "YOLO._defaults\n",
        "YOLO.get_defaults(\"model_path\")\n",
        "yolo = YOLO()\n",
        "\n",
        "# while True:\n",
        "#     img = input('Input image filename:')\n",
        "#     try:\n",
        "#         image = cv2.imread(img)\n",
        "#     except:\n",
        "#         print('Open Error! Try again!')\n",
        "#         continue\n",
        "#     else:\n",
        "#         r_image = yolo.detect_image(image)\n",
        "#         cv2.imshow('Image',r_image)\n",
        "#         cv2.waitKey(0)\n",
        "#         cv2.destroyAllWindows()\n",
        "# yolo.close_session()"
      ],
      "execution_count": null,
      "outputs": [
        {
          "output_type": "stream",
          "text": [
            "Using TensorFlow backend.\n"
          ],
          "name": "stderr"
        },
        {
          "output_type": "stream",
          "text": [
            "WARNING:tensorflow:From /tensorflow-1.15.2/python3.6/tensorflow_core/python/ops/resource_variable_ops.py:1630: calling BaseResourceVariable.__init__ (from tensorflow.python.ops.resource_variable_ops) with constraint is deprecated and will be removed in a future version.\n",
            "Instructions for updating:\n",
            "If using Keras pass *_constraint arguments to layers.\n",
            "WARNING:tensorflow:From /tensorflow-1.15.2/python3.6/keras/backend/tensorflow_backend.py:4070: The name tf.nn.max_pool is deprecated. Please use tf.nn.max_pool2d instead.\n",
            "\n",
            "/content/drive/MyDrive/AI鯉魚王/Yolo_v4/h5/2020_12_04_02:00:00/ep160-loss2.677-val_loss2.655.h5 model, anchors, and classes loaded.\n",
            "WARNING:tensorflow:From /tensorflow-1.15.2/python3.6/tensorflow_core/python/ops/array_ops.py:1475: where (from tensorflow.python.ops.array_ops) is deprecated and will be removed in a future version.\n",
            "Instructions for updating:\n",
            "Use tf.where in 2.0, which has the same broadcast rule as np.where\n"
          ],
          "name": "stdout"
        }
      ]
    },
    {
      "cell_type": "code",
      "metadata": {
        "id": "XA8FfhuxRrgD"
      },
      "source": [
        "img = np.random.choice(glob('/content/drive/MyDrive/AI鯉魚王/Yolo_v4/dataset/test_data(label)/fish_remix2/img/*.png'), 1)[0] #/content/drive/MyDrive/AI鯉魚王/Yolo_v4/dataset/train_image/fish1/img/00000001.png\n",
        "print(img)\n",
        "image = Image.open(img)\n",
        "r_image = yolo.detect_image(image)\n",
        "r_image.resize((960,540))"
      ],
      "execution_count": null,
      "outputs": []
    },
    {
      "cell_type": "code",
      "metadata": {
        "id": "z_Gx_LXE4Tpk"
      },
      "source": [
        "import time\n",
        "import os\n",
        "t1=time.time()\n",
        "path=sorted(glob('/content/drive/MyDrive/AI鯉魚王/Yolo_v4/dataset/test_data(label)/fish_remix2/img/*.png'))\n",
        "for i in range(len(path)):\n",
        "    filename=os.path.basename(path[i])\n",
        "    image = Image.open(path[i])\n",
        "    # r_image,c1,c2,c3 = yolo.detect_image(image)\n",
        "    r_image = yolo.detect_image(image)\n",
        "    # r_image.save('/content/drive/MyDrive/AI鯉魚王/bound_image/'+filename)\n",
        "t2=time.time()\n",
        "print('time elapsed: ' + str(round(t2-t1, 2)) + ' seconds')"
      ],
      "execution_count": null,
      "outputs": []
    },
    {
      "cell_type": "code",
      "metadata": {
        "id": "hNlT55zz3it4"
      },
      "source": [
        "t1=time.time()\n",
        "path=sorted(glob('./dataset/test_data(label)/fish_remix2/img/*.png'))\n",
        "for i in range(len(path)):\n",
        "    filename=os.path.basename(path[i])\n",
        "    image = Image.open(path[i])\n",
        "    r_image,c1,c2,c3 = yolo.detect_image(image)\n",
        "    #r_image.save('./output_image/'+filename)\n",
        "t2=time.time()\n",
        "print('time elapsed: ' + str(round(t2-t1, 2)) + ' seconds')\n",
        "# r_image.show()\n",
        "# plt.imshow(r_image)"
      ],
      "execution_count": null,
      "outputs": []
    },
    {
      "cell_type": "code",
      "metadata": {
        "id": "PuKaSF8V5nUa"
      },
      "source": [
        "import cv2\n",
        "path_output=sorted(glob('/content/drive/MyDrive/AI鯉魚王/bound_image/*.png'))\n",
        "fourcc = cv2.VideoWriter_fourcc(*'XVID')\n",
        "out = cv2.VideoWriter('/content/drive/MyDrive/AI鯉魚王/output.avi',fourcc, 23.7, (1920,1080))\n",
        "for path in path_output:\n",
        "    img  = cv2.imread(path)\n",
        "    out.write(img)\n",
        "out.release()"
      ],
      "execution_count": null,
      "outputs": []
    }
  ]
}